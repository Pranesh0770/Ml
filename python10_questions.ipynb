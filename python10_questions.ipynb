{
  "nbformat": 4,
  "nbformat_minor": 0,
  "metadata": {
    "colab": {
      "provenance": []
    },
    "kernelspec": {
      "name": "python3",
      "display_name": "Python 3"
    },
    "language_info": {
      "name": "python"
    }
  },
  "cells": [
    {
      "cell_type": "code",
      "execution_count": null,
      "metadata": {
        "colab": {
          "base_uri": "https://localhost:8080/"
        },
        "id": "qSnNWswfJdI5",
        "outputId": "61311703-5918-4d89-82fe-c89f545bc6af"
      },
      "outputs": [
        {
          "output_type": "stream",
          "name": "stdout",
          "text": [
            "the sum of two numbers is 11\n"
          ]
        }
      ],
      "source": [
        "a=5\n",
        "b=6\n",
        "sum=a+b\n",
        "print (\"the sum of two numbers is\",sum)"
      ]
    },
    {
      "cell_type": "code",
      "source": [
        "a=int (input(\"enter the number :\"))\n",
        "if a%2==0:\n",
        "    print (\"even number\")\n",
        "else:\n",
        "    print (\"odd number\")\n"
      ],
      "metadata": {
        "colab": {
          "base_uri": "https://localhost:8080/"
        },
        "id": "GzIa4rGeKen4",
        "outputId": "ac6f1199-db6f-4ed3-ada0-eae286278f66"
      },
      "execution_count": null,
      "outputs": [
        {
          "output_type": "stream",
          "name": "stdout",
          "text": [
            "enter the number :24\n",
            "even number\n"
          ]
        }
      ]
    },
    {
      "cell_type": "code",
      "source": [
        "a=int (input (\"enter the number:\"))\n",
        "b=int (input (\"enter the number:\"))\n",
        "c=int (input (\"enter the number:\"))\n",
        "d= int (input (\"enter the number:\"))\n",
        "largest=a\n",
        "if b>largest:\n",
        "    largest=b\n",
        "if c>largest:\n",
        "    largest=c\n",
        "if d>largest:\n",
        "    largest=d\n",
        "print (\"the largest number is\",largest)\n"
      ],
      "metadata": {
        "colab": {
          "base_uri": "https://localhost:8080/"
        },
        "id": "1qSOTVs0MMnQ",
        "outputId": "be5a7a06-13b1-4934-80f1-8f941522eef1"
      },
      "execution_count": null,
      "outputs": [
        {
          "output_type": "stream",
          "name": "stdout",
          "text": [
            "enter the number:5\n",
            "enter the number:10\n",
            "enter the number:15\n",
            "enter the number:60\n",
            "the largest number is 60\n"
          ]
        }
      ]
    },
    {
      "cell_type": "code",
      "source": [
        "def is_prime(n):\n",
        "    if n <= 1:\n",
        "        return False\n",
        "    for i in range(2, int(n**0.5) + 1):\n",
        "        if n % i == 0:\n",
        "            return False\n",
        "    return True\n",
        "num = int(input(\"Enter a number: \"))\n",
        "if is_prime(num):\n",
        "    print(f\"{num} is a prime number.\")\n",
        "else:\n",
        "    print(f\"{num} is not a prime number.\")"
      ],
      "metadata": {
        "id": "epkYJVoHNAeR",
        "colab": {
          "base_uri": "https://localhost:8080/"
        },
        "outputId": "f6df75f6-d84b-490e-ff65-a61924ba3859"
      },
      "execution_count": null,
      "outputs": [
        {
          "output_type": "stream",
          "name": "stdout",
          "text": [
            "Enter a number: 91\n",
            "91 is not a prime number.\n"
          ]
        }
      ]
    },
    {
      "cell_type": "code",
      "source": [
        "def factorial(n):\n",
        "    if n < 0:\n",
        "        return \"Factorial does not exist for negative numbers.\"\n",
        "    result = 1\n",
        "    for i in range(2, n + 1):\n",
        "        result *= i\n",
        "    return result\n",
        "num = int(input(\"Enter a number: \"))\n",
        "print(f\"Factorial of {num} is {factorial(num)}\")\n"
      ],
      "metadata": {
        "colab": {
          "base_uri": "https://localhost:8080/"
        },
        "id": "JJr2LRQA7AgZ",
        "outputId": "438ae16f-f129-4a53-92fd-9f5892881887"
      },
      "execution_count": null,
      "outputs": [
        {
          "output_type": "stream",
          "name": "stdout",
          "text": [
            "Enter a number: 4\n",
            "Factorial of 4 is 24\n"
          ]
        }
      ]
    },
    {
      "cell_type": "code",
      "source": [
        "def reverse_number(n):\n",
        "    reversed_num = 0\n",
        "    while n > 0:\n",
        "        digit = n % 10\n",
        "        reversed_num = reversed_num * 10 + digit\n",
        "        n = n // 10\n",
        "    return reversed_num\n",
        "num = int(input(\"Enter a number: \"))\n",
        "print(f\"Reversed number is: {reverse_number(num)}\")"
      ],
      "metadata": {
        "colab": {
          "base_uri": "https://localhost:8080/"
        },
        "id": "cNVCnnHw7YVw",
        "outputId": "899b1722-85d5-41be-930f-884314d742e1"
      },
      "execution_count": null,
      "outputs": [
        {
          "output_type": "stream",
          "name": "stdout",
          "text": [
            "Enter a number: 123\n",
            "Reversed number is: 321\n"
          ]
        }
      ]
    },
    {
      "cell_type": "code",
      "source": [
        "def calculator(a, b, operation):\n",
        "    if operation == '+':\n",
        "        return a + b\n",
        "    elif operation == '-':\n",
        "        return a - b\n",
        "    elif operation == '*':\n",
        "        return a * b\n",
        "    elif operation == '/':\n",
        "        if b == 0:\n",
        "            return \"Error: Division by zero\"\n",
        "        return a / b\n",
        "    else:\n",
        "        return \"Invalid operation\"\n",
        "print(\"Simple Calculator\")\n",
        "num1 = float(input(\"Enter first number: \"))\n",
        "op = input(\"Enter operation (+, -, *, /): \")\n",
        "num2 = float(input(\"Enter second number: \"))\n",
        "\n",
        "result = calculator(num1, num2, op)\n",
        "print(f\"Result: {result}\")"
      ],
      "metadata": {
        "colab": {
          "base_uri": "https://localhost:8080/"
        },
        "id": "rplOPmTr8LTO",
        "outputId": "3dddbe3d-fc42-4311-e7cf-e69f47db3f67"
      },
      "execution_count": null,
      "outputs": [
        {
          "output_type": "stream",
          "name": "stdout",
          "text": [
            "Simple Calculator\n",
            "Enter first number: 67\n",
            "Enter operation (+, -, *, /): -\n",
            "Enter second number: 45\n",
            "Result: 22.0\n"
          ]
        }
      ]
    },
    {
      "cell_type": "code",
      "source": [
        "def is_palindrome(s):\n",
        "    s = s.lower().replace(\" \", \"\")\n",
        "    return s == s[::-1]\n",
        "text = input(\"Enter a string: \")\n",
        "if is_palindrome(text):\n",
        "    print(\"The string is a palindrome.\")\n",
        "else:\n",
        "    print(\"The string is not a palindrome.\")"
      ],
      "metadata": {
        "colab": {
          "base_uri": "https://localhost:8080/"
        },
        "id": "P6d2XuT_9PY1",
        "outputId": "b04995fa-f510-4715-e43f-179353f7f20e"
      },
      "execution_count": null,
      "outputs": [
        {
          "output_type": "stream",
          "name": "stdout",
          "text": [
            "Enter a string: chandrika\n",
            "The string is not a palindrome.\n"
          ]
        }
      ]
    },
    {
      "cell_type": "code",
      "source": [
        "def sum_of_digits(n):\n",
        "    total = 0\n",
        "    n = abs(n)\n",
        "    while n > 0:\n",
        "        total += n % 10\n",
        "        n //= 10\n",
        "    return total\n",
        "num = int(input(\"Enter a number: \"))\n",
        "print(f\"Sum of digits is: {sum_of_digits(num)}\")"
      ],
      "metadata": {
        "colab": {
          "base_uri": "https://localhost:8080/"
        },
        "id": "xdu6QZw070OM",
        "outputId": "7fe97bcd-22fa-4af5-f7fb-e20c4842be49"
      },
      "execution_count": null,
      "outputs": [
        {
          "output_type": "stream",
          "name": "stdout",
          "text": [
            "Enter a number: 89\n",
            "Sum of digits is: 17\n"
          ]
        }
      ]
    },
    {
      "cell_type": "code",
      "source": [
        "rows = 5\n",
        "for i in range(1, rows + 1):\n",
        "    print(\"*\" * i)"
      ],
      "metadata": {
        "colab": {
          "base_uri": "https://localhost:8080/"
        },
        "id": "BWr2dQs0-bC_",
        "outputId": "87821f4a-5172-4702-9f56-1ea78fef969b"
      },
      "execution_count": null,
      "outputs": [
        {
          "output_type": "stream",
          "name": "stdout",
          "text": [
            "*\n",
            "**\n",
            "***\n",
            "****\n",
            "*****\n"
          ]
        }
      ]
    }
  ]
}